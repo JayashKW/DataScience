{
  "nbformat": 4,
  "nbformat_minor": 0,
  "metadata": {
    "colab": {
      "provenance": []
    },
    "kernelspec": {
      "name": "python3",
      "display_name": "Python 3"
    },
    "language_info": {
      "name": "python"
    }
  },
  "cells": [
    {
      "cell_type": "markdown",
      "source": [
        "# **Python Basics Questions**\n",
        "\n",
        "---\n",
        "\n"
      ],
      "metadata": {
        "id": "dIqrn-8j9i4-"
      }
    },
    {
      "cell_type": "markdown",
      "source": [
        "1. What is Python, and why is it popular?\n",
        "     - Python is a high-level, interpreted programming language known for its simplicity and readability. It is popular because of:\n",
        "\n",
        "       - Easy-to-learn syntax\n",
        "\n",
        "       - Extensive libraries and frameworks\n",
        "\n",
        "       - Strong community support\n",
        "\n",
        "       - Versatility in web development, data science, AI, automation, etc."
      ],
      "metadata": {
        "id": "_AepiQMF-Fhs"
      }
    },
    {
      "cell_type": "markdown",
      "source": [
        "2. What is an interpreter in Python?\n",
        "  - An interpreter in Python is a program that executes Python code line by line, translating it into machine-readable format at runtime. Python uses CPython (default), PyPy, or Jython as interpreters.\n",
        "  "
      ],
      "metadata": {
        "id": "tEn8pLpC-omU"
      }
    },
    {
      "cell_type": "markdown",
      "source": [
        "3. What are pre-defined keywords in Python?\n",
        "   - Pre-defined keywords are reserved words in Python that have specific meanings and cannot be used as variable names. Examples include if, else, while, for, def, return, import, etc."
      ],
      "metadata": {
        "id": "pFvz4y7t-36r"
      }
    },
    {
      "cell_type": "markdown",
      "source": [
        "4. Can keywords be used as variable names?\n",
        "   - No, keywords cannot be used as variable names in Python because they serve specific purposes in the language. Attempting to do so will result in a SyntaxError."
      ],
      "metadata": {
        "id": "cuN-_ZiV_B0g"
      }
    },
    {
      "cell_type": "markdown",
      "source": [
        "5. What is mutability in Python?\n",
        "  - Mutability refers to whether an object’s value can be changed after creation. Mutable objects can be modified (e.g., lists, dictionaries), while immutable objects cannot be changed (e.g., tuples, strings)."
      ],
      "metadata": {
        "id": "B6sbvuoB_Jte"
      }
    },
    {
      "cell_type": "markdown",
      "source": [
        "6. Why are lists mutable, but tuples are immutable?\n",
        "   - Lists are mutable because they allow modifications such as adding, removing, or updating elements. Tuples are immutable to ensure data integrity and reduce memory usage."
      ],
      "metadata": {
        "id": "_BRhNnPI_RHU"
      }
    },
    {
      "cell_type": "markdown",
      "source": [
        "7. What is the difference between == and is operators in Python?\n",
        "  - == checks if two values are equal (compares contents).\n",
        "\n",
        "  - is checks if two variables refer to the same memory location.\n",
        "    \n",
        "    - Example:\n",
        "     a = [1, 2, 3]  \n",
        "b = [1, 2, 3]  \n",
        "print(a == b)  # True (same values)  \n",
        "print(a is b)  # False (different memory locations)"
      ],
      "metadata": {
        "id": "EFOM6w9b_W8X"
      }
    },
    {
      "cell_type": "markdown",
      "source": [
        "8. What are logical operators in Python?\n",
        "   - Python has three logical operators:\n",
        "\n",
        "  - and → Returns True if both conditions are true\n",
        "\n",
        "   - or → Returns True if at least one condition is true\n",
        "\n",
        "   - not → Negates the condition"
      ],
      "metadata": {
        "id": "SF2n23d0_wdH"
      }
    },
    {
      "cell_type": "markdown",
      "source": [
        "9. What is type casting in Python?\n",
        "  - Type casting is converting a variable from one data type to another, such as int to float or string to int.\n",
        "\n",
        "   - Example: x = \"10\"\n",
        "y = int(x)  # Converts string to integer\n",
        "print(y)    # Output: 10"
      ],
      "metadata": {
        "id": "6ZJ0liJJ_9LY"
      }
    },
    {
      "cell_type": "markdown",
      "source": [
        "10. What is the difference between implicit and explicit type casting?\n",
        "   - Implicit Type Casting: Done automatically by Python when converting smaller data types to larger ones.\n",
        "   - Example:\n",
        "    a = 5\n",
        "    b = 2.5\n",
        "    c = a + b  # int + float → float\n",
        "    print(c)   # 7.5\n",
        "  \n",
        "  - Explicit Type Casting: Done manually using functions like int(), float(), str().\n",
        "  - Example:  x = \"10\"\n",
        "y = int(x)  # Explicitly converting string to integer\n",
        "\n",
        "     "
      ],
      "metadata": {
        "id": "Jx1vnINXATyv"
      }
    },
    {
      "cell_type": "markdown",
      "source": [
        "11. What is the purpose of conditional statements in Python?\n",
        "   - Conditional statements like if, elif, and else control the flow of execution based on conditions. They help in decision-making in programs."
      ],
      "metadata": {
        "id": "vs2qBJcZA4-_"
      }
    },
    {
      "cell_type": "markdown",
      "source": [
        "12. How does the elif statement work?\n",
        "    - elif (else-if) is used to check multiple conditions sequentially. If the first condition is false, it moves to the next elif statement."
      ],
      "metadata": {
        "id": "FetlRO44BGsB"
      }
    },
    {
      "cell_type": "markdown",
      "source": [
        "13. What is the difference between for and while loops?\n",
        "   - For loop is used when the number of iterations is known.\n",
        "\n",
        "   - While loop is used when the number of iterations depends on a condition."
      ],
      "metadata": {
        "id": "VEsUbVN-BRZA"
      }
    },
    {
      "cell_type": "markdown",
      "source": [
        "14. Describe a scenario where a while loop is more suitable than a for loop.\n",
        "  - A while loop is better when the number of iterations is unknown in advance, such as waiting for user input or processing data until a condition is met.\n",
        "  "
      ],
      "metadata": {
        "id": "WEk2j_dbBaFu"
      }
    },
    {
      "cell_type": "markdown",
      "source": [
        "# **Practical Questions**\n",
        "\n",
        "---\n",
        "\n"
      ],
      "metadata": {
        "id": "3lY8usunByOk"
      }
    },
    {
      "cell_type": "code",
      "source": [
        "# 1. Print \"Hello, World!\"\n",
        "print(\"Hello, World!\")"
      ],
      "metadata": {
        "colab": {
          "base_uri": "https://localhost:8080/"
        },
        "id": "G6cp3_guB_kH",
        "outputId": "e0d01018-8434-48ea-bdfb-e677aaa32734"
      },
      "execution_count": 1,
      "outputs": [
        {
          "output_type": "stream",
          "name": "stdout",
          "text": [
            "Hello, World!\n"
          ]
        }
      ]
    },
    {
      "cell_type": "code",
      "source": [
        "# 2. Display name and age\n",
        "name = \"Jayash warbhe\"\n",
        "age = 22\n",
        "print(\"Name:\", name)\n",
        "print(\"Age:\", age)"
      ],
      "metadata": {
        "colab": {
          "base_uri": "https://localhost:8080/"
        },
        "id": "oEj4ZJYCCU68",
        "outputId": "1f05f1fd-c0fa-474e-b95b-0f2174b29f55"
      },
      "execution_count": 3,
      "outputs": [
        {
          "output_type": "stream",
          "name": "stdout",
          "text": [
            "Name: Jayash warbhe\n",
            "Age: 22\n"
          ]
        }
      ]
    },
    {
      "cell_type": "code",
      "source": [
        "# 3. Print all pre-defined keywords in Python\n",
        "import keyword\n",
        "print(keyword.kwlist)\n"
      ],
      "metadata": {
        "colab": {
          "base_uri": "https://localhost:8080/"
        },
        "id": "-iG3wIPkCsJm",
        "outputId": "41e12e7e-eac4-427b-bfea-0397874b5579"
      },
      "execution_count": 11,
      "outputs": [
        {
          "output_type": "stream",
          "name": "stdout",
          "text": [
            "['False', 'None', 'True', 'and', 'as', 'assert', 'async', 'await', 'break', 'class', 'continue', 'def', 'del', 'elif', 'else', 'except', 'finally', 'for', 'from', 'global', 'if', 'import', 'in', 'is', 'lambda', 'nonlocal', 'not', 'or', 'pass', 'raise', 'return', 'try', 'while', 'with', 'yield']\n"
          ]
        }
      ]
    },
    {
      "cell_type": "code",
      "source": [
        "# 4. Check if a given word is a Python keyword\n",
        "def is_keyword(word):\n",
        "    return keyword.iskeyword(word)\n",
        "\n",
        "word = input(\"Enter a word: \")\n",
        "print(f\"{word} is a keyword: {is_keyword(word)}\")\n"
      ],
      "metadata": {
        "colab": {
          "base_uri": "https://localhost:8080/"
        },
        "id": "u7liCjaiDWa7",
        "outputId": "2a5fdb50-bbf0-4f3f-d30b-f037b17819f0"
      },
      "execution_count": 15,
      "outputs": [
        {
          "output_type": "stream",
          "name": "stdout",
          "text": [
            "Enter a word: True\n",
            "True is a keyword: True\n"
          ]
        }
      ]
    },
    {
      "cell_type": "code",
      "source": [
        "# 5. Demonstrate mutable and immutable arguments\n",
        "def modifyvalues(a, b):\n",
        "    a += 1\n",
        "    b.append(4)\n",
        "\n",
        "x = 10\n",
        "y = [1, 2, 3]\n",
        "modifyvalues(x, y)\n",
        "print(x)\n",
        "print(y)\n"
      ],
      "metadata": {
        "colab": {
          "base_uri": "https://localhost:8080/"
        },
        "id": "dsc4F8qHEd3r",
        "outputId": "9057f67d-16ce-4dea-a80d-89288dbc4e59"
      },
      "execution_count": 16,
      "outputs": [
        {
          "output_type": "stream",
          "name": "stdout",
          "text": [
            "10\n",
            "[1, 2, 3, 4]\n"
          ]
        }
      ]
    },
    {
      "cell_type": "code",
      "source": [
        "# 6. Basic arithmetic operations\n",
        "num1 = int(input(\"Enter first number: \"))\n",
        "num2 = int(input(\"Enter second number: \"))\n",
        "print(\"Addition:\", num1 + num2)\n",
        "print(\"Subtraction:\", num1 - num2)\n",
        "print(\"Multiplication:\", num1 * num2)\n",
        "print(\"Division:\", num1 / num2 if num2 != 0 else \"Cannot divide by zero\")1"
      ],
      "metadata": {
        "colab": {
          "base_uri": "https://localhost:8080/"
        },
        "id": "CweWrPVXFA30",
        "outputId": "2ab5c4b2-075e-4573-b239-e808a079c615"
      },
      "execution_count": 17,
      "outputs": [
        {
          "output_type": "stream",
          "name": "stdout",
          "text": [
            "Enter first number: 10\n",
            "Enter second number: 100\n",
            "Addition: 110\n",
            "Subtraction: -90\n",
            "Multiplication: 1000\n",
            "Division: 0.1\n"
          ]
        }
      ]
    },
    {
      "cell_type": "code",
      "source": [
        "# 7. Demonstrate logical operators\n",
        "a = True\n",
        "b = False\n",
        "print(\"AND:\", a and b)\n",
        "print(\"OR:\", a or b)\n",
        "print(\"NOT A:\", not a)\n"
      ],
      "metadata": {
        "colab": {
          "base_uri": "https://localhost:8080/"
        },
        "id": "co3HAHfiFZ6d",
        "outputId": "4cf6e839-9ee7-485d-e9eb-1ad45a3dc629"
      },
      "execution_count": 18,
      "outputs": [
        {
          "output_type": "stream",
          "name": "stdout",
          "text": [
            "AND: False\n",
            "OR: True\n",
            "NOT A: False\n"
          ]
        }
      ]
    },
    {
      "cell_type": "code",
      "source": [
        "# 8. List and tuple difference\n",
        "a = [1, 2, 3]\n",
        "b = (4, 5, 6)\n",
        "a[0] = 10\n",
        "print(a)\n",
        "# my_tuple[0] = 10  #  (uncomment to see)"
      ],
      "metadata": {
        "colab": {
          "base_uri": "https://localhost:8080/"
        },
        "id": "medgQod2Fc3e",
        "outputId": "f78c959f-9b2d-43c5-8e8d-b3100e291fbb"
      },
      "execution_count": 21,
      "outputs": [
        {
          "output_type": "stream",
          "name": "stdout",
          "text": [
            "[10, 2, 3]\n"
          ]
        }
      ]
    },
    {
      "cell_type": "code",
      "source": [
        "# 9. Convert input to integer, float, and boolean\n",
        "a = input(\"Enter a value: \")\n",
        "print(int(a), float(a), bool(a))"
      ],
      "metadata": {
        "colab": {
          "base_uri": "https://localhost:8080/"
        },
        "id": "Z0Qrhh0EF63Q",
        "outputId": "5e85eec4-7e7f-4aa9-e456-e1f4a8b34326"
      },
      "execution_count": 23,
      "outputs": [
        {
          "output_type": "stream",
          "name": "stdout",
          "text": [
            "Enter a value: 10\n",
            "10 10.0 True\n"
          ]
        }
      ]
    },
    {
      "cell_type": "code",
      "source": [
        "# 10. Type casting with list elements\n",
        "a = [\"1\", \"2\", \"3\"]\n",
        "b = list(map(int, a))\n",
        "print(b)"
      ],
      "metadata": {
        "colab": {
          "base_uri": "https://localhost:8080/"
        },
        "id": "IxGEbvStGOpx",
        "outputId": "f91542f8-3692-4ed7-e0a3-ab2e1387cbab"
      },
      "execution_count": 25,
      "outputs": [
        {
          "output_type": "stream",
          "name": "stdout",
          "text": [
            "[1, 2, 3]\n"
          ]
        }
      ]
    },
    {
      "cell_type": "code",
      "source": [
        "# 11. Check if a number is positive, negative, or zero\n",
        "num = int(input(\"Enter a number: \"))\n",
        "if num > 0:\n",
        "    print(\"Positive\")\n",
        "elif num < 0:\n",
        "    print(\"Negative\")\n",
        "else:\n",
        "    print(\"Zero\")\n"
      ],
      "metadata": {
        "colab": {
          "base_uri": "https://localhost:8080/"
        },
        "id": "WiAY2n2mGgyl",
        "outputId": "f180eced-3eb5-49a3-c8b0-dee4e332576a"
      },
      "execution_count": 26,
      "outputs": [
        {
          "output_type": "stream",
          "name": "stdout",
          "text": [
            "Enter a number: 10\n",
            "Positive\n"
          ]
        }
      ]
    },
    {
      "cell_type": "code",
      "source": [
        "# 12. Print numbers 1 to 10 using a for loop\n",
        "for i in range(1, 11):\n",
        "    print(i)\n"
      ],
      "metadata": {
        "colab": {
          "base_uri": "https://localhost:8080/"
        },
        "id": "5yyJE7EHGm6C",
        "outputId": "2222ec3f-7bce-4f62-8a48-9d460bd3ffa8"
      },
      "execution_count": 27,
      "outputs": [
        {
          "output_type": "stream",
          "name": "stdout",
          "text": [
            "1\n",
            "2\n",
            "3\n",
            "4\n",
            "5\n",
            "6\n",
            "7\n",
            "8\n",
            "9\n",
            "10\n"
          ]
        }
      ]
    },
    {
      "cell_type": "code",
      "source": [
        "# 13. Sum of even numbers between 1 and 50\n",
        "sum=0\n",
        "for i in range(2,51,2):\n",
        "  sum=sum+i\n",
        "print(sum)"
      ],
      "metadata": {
        "colab": {
          "base_uri": "https://localhost:8080/"
        },
        "id": "Sjqv69BSG4Jf",
        "outputId": "e8c7652a-be4e-4a0b-d146-e3794be184c4"
      },
      "execution_count": 28,
      "outputs": [
        {
          "output_type": "stream",
          "name": "stdout",
          "text": [
            "650\n"
          ]
        }
      ]
    },
    {
      "cell_type": "code",
      "source": [
        "# 14. Reverse a string using while loop\n",
        "sting = input(\"Enter a string: \")\n",
        "reversed_string = \"\"\n",
        "i= len(sting) - 1\n",
        "while i >= 0:\n",
        "    reversed_string = reversed_string + sting[i]\n",
        "    i = i- 1\n",
        "print(\"Reversed string:\", reversed_string)"
      ],
      "metadata": {
        "colab": {
          "base_uri": "https://localhost:8080/"
        },
        "id": "19oRa1v8IAmr",
        "outputId": "b6a42a6d-a2c9-478b-cdc9-18703a1df07c"
      },
      "execution_count": 33,
      "outputs": [
        {
          "output_type": "stream",
          "name": "stdout",
          "text": [
            "Enter a string: Jayash\n",
            "Reversed string: hsayaJ\n"
          ]
        }
      ]
    },
    {
      "cell_type": "code",
      "source": [
        "# 15. Calculate factorial of a number\n",
        "num = int(input(\"Enter a number: \"))\n",
        "factorial = 1\n",
        "for i in range(1, num + 1):\n",
        "    factorial *= i\n",
        "print(\"Factorial:\", factorial)"
      ],
      "metadata": {
        "colab": {
          "base_uri": "https://localhost:8080/"
        },
        "id": "8gevLPCAKmhn",
        "outputId": "776c769c-e1ed-4af6-98ed-a7b30dc44017"
      },
      "execution_count": 40,
      "outputs": [
        {
          "output_type": "stream",
          "name": "stdout",
          "text": [
            "Enter a number: 5\n",
            "Factorial: 120\n"
          ]
        }
      ]
    }
  ]
}