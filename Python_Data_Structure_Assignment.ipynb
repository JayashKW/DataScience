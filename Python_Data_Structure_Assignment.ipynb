{
  "nbformat": 4,
  "nbformat_minor": 0,
  "metadata": {
    "colab": {
      "provenance": []
    },
    "kernelspec": {
      "name": "python3",
      "display_name": "Python 3"
    },
    "language_info": {
      "name": "python"
    }
  },
  "cells": [
    {
      "cell_type": "markdown",
      "source": [
        "#                                                    **Theoretical Question:**"
      ],
      "metadata": {
        "id": "d__YfWgwIrb0"
      }
    },
    {
      "cell_type": "markdown",
      "source": [
        "1. What are data structures, and why are they important?\n",
        "   - Data structures are ways of organizing and storing data so that it can be accessed and modified effeciently. They are important because they allow us to manage large amount of data in a way that it easier to perform operations like searching, sorting, and etc."
      ],
      "metadata": {
        "id": "mN7VgpZVJJL6"
      }
    },
    {
      "cell_type": "markdown",
      "source": [
        "2.  Explain the difference between mutable and immutable data types with examples.?\n",
        "    - Mutable data types are the data types where object can be change.\n",
        "        -  Example: list in python are mutable,\n",
        "        meaning where we can add, remove, modify list.\n",
        "    \n",
        "    -  Immutable data types cannot be changed after they are created.\n",
        "        - Example: tuple = (1, 2, 3) (you can't change tuple after it's created)\n"
      ],
      "metadata": {
        "id": "qB6-UDJkKcoa"
      }
    },
    {
      "cell_type": "markdown",
      "source": [
        "3. What are the main differences between lists and tuples in Python?\n",
        "   - Lists are mutable, meaning you can change, add, or remove items.\n",
        "\n",
        "   - Tuples are immutable, meaning you cannot change, add, or remove items after creation.\n",
        "\n",
        "   - Lists are defined with square brackets ([]), while tuples use parentheses (())."
      ],
      "metadata": {
        "id": "fgH98syeLrtG"
      }
    },
    {
      "cell_type": "markdown",
      "source": [
        "4. Describe how dictionaries store data?\n",
        "   - Dictionaries store data in key-value pairs. Each key is unique, and it maps to a specific value. You can retrieve the value using the key.\n",
        "      - Example: name_1 = {'name': 'Jayash', 'age': 22} (Here, 'name' and 'age' are keys, and 'Jayash' and 22 are their corresponding values)."
      ],
      "metadata": {
        "id": "70jiHvZkMAVZ"
      }
    },
    {
      "cell_type": "markdown",
      "source": [
        "5. Why might you use a set instead of a list in Python?\n",
        "  - We might use a set instead of a list if you need to store unique items and don’t care about the order of elements. Sets automatically remove duplicates and we can also use concept of frozen set if we want our set to be immutable.\n",
        "     -  set = {1, 2, 3, 3} (the duplicate 3 will removed in output).\n",
        "\n",
        "\n",
        "  "
      ],
      "metadata": {
        "id": "c1FiQWe1MjwY"
      }
    },
    {
      "cell_type": "markdown",
      "source": [
        "6. What is a string in Python, and how is it different from a list?\n",
        "  -  A string in Python is a sequence of characters. Unlike a list, a string is immutable, meaning we can't modify its characters after it’s created.\n",
        "     - Example: string = \"Hello Jay\" (we can't change individual characters like string[0] = \"H\" unlike list)."
      ],
      "metadata": {
        "id": "ETKg5NLcNVd4"
      }
    },
    {
      "cell_type": "markdown",
      "source": [
        "7.  How do tuples ensure data integrity in Python?\n",
        "   - Tuples ensure data integrity by being immutable. Once created, their data cannot be modified, which means the data remains consistent and protected from accidental changes."
      ],
      "metadata": {
        "id": "n8kx9gDWN8HT"
      }
    },
    {
      "cell_type": "markdown",
      "source": [
        "8.  What is a hash table, and how does it relate to dictionaries in Python?\n",
        "  - A hash table is a data structure that stores key-value pairs and uses a hash function to quickly access values by their keys. In Python, dictionaries are implemented using hash tables, which makes lookups very fast."
      ],
      "metadata": {
        "id": "hrCrdroqOIhN"
      }
    },
    {
      "cell_type": "markdown",
      "source": [
        "9. Can lists contain different data types in Python?\n",
        "  - Yes, lists in Python can contain items of different data types.\n",
        "\n",
        "     - Example: list = [1, \"hello\", 3.14] a list with an integer, a string, and a float.   "
      ],
      "metadata": {
        "id": "YSRxgaL3OWJT"
      }
    },
    {
      "cell_type": "markdown",
      "source": [
        "10. Explain why strings are immutable in Python?\n",
        "  - Strings are immutable because they are designed to be more efficient in memory usage and faster when used frequently. If strings were mutable, it would lead to more overhead in memory management."
      ],
      "metadata": {
        "id": "vHF58ePoOsE-"
      }
    },
    {
      "cell_type": "markdown",
      "source": [
        "11. What advantages do dictionaries offer over lists for certain tasks?\n",
        "  - Dictionaries provide faster lookups for retrieving values based on keys, while lists are slower because they require searching through all elements to find a value.\n",
        "\n",
        "      - Dictionaries are better when we need to map data to unique keys, while lists are better when the order of elements matters"
      ],
      "metadata": {
        "id": "_9CYMFN9PEKO"
      }
    },
    {
      "cell_type": "markdown",
      "source": [
        "12. Describe a scenario where using a tuple would be preferable over a list?\n",
        "   -   We might prefer a tuple over a list when you need to store data that should not be changed (like coordinates of a point). Since tuples are immutable, they ensure that the data remains constant.\n",
        "\n",
        "       - Example: Storing a fixed set of configuration settings in a tuple."
      ],
      "metadata": {
        "id": "qU1lveDGPZck"
      }
    },
    {
      "cell_type": "markdown",
      "source": [
        "13. How do sets handle duplicate values in Python?\n",
        "    -   Sets automatically remove duplicate values. If you try to add a duplicate item, it won't be added to the set.\n",
        "\n",
        "      - Example: set = {1, 2, 2, 3} o/p: {1, 2, 3}"
      ],
      "metadata": {
        "id": "7sPPcADFPve4"
      }
    },
    {
      "cell_type": "markdown",
      "source": [
        "14. How does the “in” keyword work differently for lists and dictionaries?\n",
        "   - For lists, the in keyword checks if an element exists in the list.\n",
        "\n",
        "       - Example: 3 in [1, 2, 3] returns True.\n",
        "\n",
        "    - For dictionaries, the in keyword checks if a key exists in the dictionary.\n",
        "\n",
        "        - Example: 'name' in {'name': 'Jayash'} returns True.\n",
        "   \n",
        "   "
      ],
      "metadata": {
        "id": "2I00G1rbQBAF"
      }
    },
    {
      "cell_type": "markdown",
      "source": [
        "15. Can you modify the elements of a tuple? Explain why or why not?\n",
        "   - No, we cannot modify the elements of a tuple because tuples are immutable. Once a tuple is created, its data cannot be changed."
      ],
      "metadata": {
        "id": "enGJQ4BlQaG0"
      }
    },
    {
      "cell_type": "markdown",
      "source": [
        "16. What is a nested dictionary, and give an example of its use case?\n",
        "  - A nested dictionary is a dictionary where the values themselves are dictionaries. This is useful for representing more complex data structures.\n",
        "       \n",
        "       - nested_dict = {\n",
        "    'person1': {'name': 'Jayash', 'age': 22},\n",
        "    'person2': {'name': 'seeya', 'age': 21}\n",
        "}\n",
        "\n"
      ],
      "metadata": {
        "id": "eIZ_dBBTQj4y"
      }
    },
    {
      "cell_type": "markdown",
      "source": [
        "17.  Describe the time complexity of accessing elements in a dictionary?\n",
        "    - Accessing an element in a dictionary is O(1), meaning it takes constant time regardless of the size of the dictionary. This is because dictionaries use hash tables, allowing for fast lookups by key.and we can direcly access the value using key unlike list."
      ],
      "metadata": {
        "id": "hkhy4W5iRAMR"
      }
    },
    {
      "cell_type": "markdown",
      "source": [
        "18. In what situations are lists preferred over dictionaries?\n",
        "   - Lists are preferred when:\n",
        "\n",
        "        - The order of elements matters.\n",
        "\n",
        "        - we need to store multiple values of the same type without the need for unique keys."
      ],
      "metadata": {
        "id": "zIdsMtYfRYFH"
      }
    },
    {
      "cell_type": "markdown",
      "source": [
        "19.  Why are dictionaries considered unordered, and how does that affect data retrieval?\n",
        "    - Dictionaries are considered unordered because they do not maintain the order of elements (until Python 3.7, where insertion order is maintained). This means the order of keys/values might not be the same as when they were added. However, this doesn't affect data retrieval, as dictionaries use keys to access values, not their position."
      ],
      "metadata": {
        "id": "zcBYTzO-RttS"
      }
    },
    {
      "cell_type": "markdown",
      "source": [
        "20.   Explain the difference between a list and a dictionary in terms of data retrieval?\n",
        "      - In a list, data is retrieved based on index (position in the list).\n",
        "\n",
        "      - In a dictionary, data is retrieved based on key (unique identifiers). Dictionaries are faster for looking up values because they use hashing for fast lookups."
      ],
      "metadata": {
        "id": "QATMt59SR_kv"
      }
    },
    {
      "cell_type": "markdown",
      "source": [
        "# **Practical Questions**"
      ],
      "metadata": {
        "id": "Eb8FonvTS4rk"
      }
    },
    {
      "cell_type": "code",
      "source": [
        "# 1 Write a code to create a string with your name and print it\n",
        "name= \"Jayash Warbhe\"\n",
        "print(name)"
      ],
      "metadata": {
        "colab": {
          "base_uri": "https://localhost:8080/"
        },
        "id": "YtPUICfITHE0",
        "outputId": "d71452db-a537-4f45-df01-97edf1b34cdf"
      },
      "execution_count": 1,
      "outputs": [
        {
          "output_type": "stream",
          "name": "stdout",
          "text": [
            "Jayash Warbhe\n"
          ]
        }
      ]
    },
    {
      "cell_type": "code",
      "source": [
        "# 2 Write a code to find the length of the string \"Hello World\"\n",
        "a= \"Hello World\"\n",
        "print(len(a))"
      ],
      "metadata": {
        "colab": {
          "base_uri": "https://localhost:8080/"
        },
        "id": "wX75hbJfTl7q",
        "outputId": "e54d1c0c-e91f-4dc1-9d27-189441e92a55"
      },
      "execution_count": 2,
      "outputs": [
        {
          "output_type": "stream",
          "name": "stdout",
          "text": [
            "11\n"
          ]
        }
      ]
    },
    {
      "cell_type": "code",
      "source": [
        "# 3 Write a code to slice the first 3 characters from the string \"Python Programming\"\n",
        "a =\"Python Programming\"\n",
        "print(a[0:3])"
      ],
      "metadata": {
        "colab": {
          "base_uri": "https://localhost:8080/"
        },
        "id": "HQsF2gaMTyUx",
        "outputId": "3cead561-db2c-4cd3-e0e8-2932ab280d30"
      },
      "execution_count": 6,
      "outputs": [
        {
          "output_type": "stream",
          "name": "stdout",
          "text": [
            "Pyt\n"
          ]
        }
      ]
    },
    {
      "cell_type": "code",
      "source": [
        "# 4 Write a code to convert the string \"hello\" to uppercase\n",
        "j = \"hello\"\n",
        "j.upper()"
      ],
      "metadata": {
        "colab": {
          "base_uri": "https://localhost:8080/",
          "height": 36
        },
        "id": "1FHrwRg2UV-3",
        "outputId": "ebde552c-ac67-408d-bfad-b3fef4663876"
      },
      "execution_count": 7,
      "outputs": [
        {
          "output_type": "execute_result",
          "data": {
            "text/plain": [
              "'HELLO'"
            ],
            "application/vnd.google.colaboratory.intrinsic+json": {
              "type": "string"
            }
          },
          "metadata": {},
          "execution_count": 7
        }
      ]
    },
    {
      "cell_type": "code",
      "source": [
        "#5 Write a code to replace the word \"apple\" with \"orange\" in the string \"I like apple\"\n",
        "a = \" I like apple\"\n",
        "a.replace(\"apple\", \"orange\")"
      ],
      "metadata": {
        "colab": {
          "base_uri": "https://localhost:8080/",
          "height": 36
        },
        "id": "M8OpbiQNU0pM",
        "outputId": "b42697f2-6b9c-4c54-e0ab-86bd07fcb9c2"
      },
      "execution_count": 8,
      "outputs": [
        {
          "output_type": "execute_result",
          "data": {
            "text/plain": [
              "' I like orange'"
            ],
            "application/vnd.google.colaboratory.intrinsic+json": {
              "type": "string"
            }
          },
          "metadata": {},
          "execution_count": 8
        }
      ]
    },
    {
      "cell_type": "code",
      "source": [
        "#6 Write a code to create a list with numbers 1 to 5 and print it\n",
        "a=[]\n",
        "for i in range(1,6):\n",
        "  a.append(i)\n",
        "print(a)"
      ],
      "metadata": {
        "colab": {
          "base_uri": "https://localhost:8080/"
        },
        "id": "-i-BbbTLVcqs",
        "outputId": "71bbcf1f-1fed-4633-c587-9376fde1d92b"
      },
      "execution_count": 9,
      "outputs": [
        {
          "output_type": "stream",
          "name": "stdout",
          "text": [
            "[1, 2, 3, 4, 5]\n"
          ]
        }
      ]
    },
    {
      "cell_type": "code",
      "source": [
        "#7 Write a code to append the number 10 to the list [1, 2, 3, 4]\n",
        "a = [1,2,3,4]\n",
        "a.append(10)\n",
        "print(a)"
      ],
      "metadata": {
        "colab": {
          "base_uri": "https://localhost:8080/"
        },
        "id": "lWMcmZjcV22P",
        "outputId": "785f7dab-ebe8-4883-86d6-bfb8d5435a54"
      },
      "execution_count": 10,
      "outputs": [
        {
          "output_type": "stream",
          "name": "stdout",
          "text": [
            "[1, 2, 3, 4, 10]\n"
          ]
        }
      ]
    },
    {
      "cell_type": "code",
      "source": [
        "#8 Write a code to remove the number 3 from the list [1, 2, 3, 4,5]\n",
        "a =[1,2,3,4,5]\n",
        "a.remove(3)\n",
        "print(a)"
      ],
      "metadata": {
        "colab": {
          "base_uri": "https://localhost:8080/"
        },
        "id": "Zx5TNZJGWTkl",
        "outputId": "a53ee679-ef50-4c0f-9bed-7498319d8048"
      },
      "execution_count": 12,
      "outputs": [
        {
          "output_type": "stream",
          "name": "stdout",
          "text": [
            "[1, 2, 4]\n"
          ]
        }
      ]
    },
    {
      "cell_type": "code",
      "source": [
        "#9Write a code to access the second element in the list ['a', 'b', 'c', 'd']\n",
        "s = ['a','b','c','d']\n",
        "print(s[1])\n"
      ],
      "metadata": {
        "colab": {
          "base_uri": "https://localhost:8080/"
        },
        "id": "EjbH9ElSWkaM",
        "outputId": "2595b35e-26fa-456f-bdac-f87dc4e26268"
      },
      "execution_count": 14,
      "outputs": [
        {
          "output_type": "stream",
          "name": "stdout",
          "text": [
            "b\n"
          ]
        }
      ]
    },
    {
      "cell_type": "code",
      "source": [
        "#10Write a code to reverse the list [10, 20, 30, 40, 50].\n",
        "a = [10,20,30,40,50]\n",
        "a.reverse()\n",
        "print(a)"
      ],
      "metadata": {
        "colab": {
          "base_uri": "https://localhost:8080/"
        },
        "id": "q1ZqHqyAYYEa",
        "outputId": "f8f5fdf3-2bc4-4ef2-89e2-97fe6d10e990"
      },
      "execution_count": 20,
      "outputs": [
        {
          "output_type": "stream",
          "name": "stdout",
          "text": [
            "[50, 40, 30, 20, 10]\n"
          ]
        }
      ]
    },
    {
      "cell_type": "code",
      "source": [
        "# 11  Write a code to create a tuple with the elements 100, 200, 300 and print it.\n",
        "a = (100, 200, 300)\n",
        "print(a)"
      ],
      "metadata": {
        "colab": {
          "base_uri": "https://localhost:8080/"
        },
        "id": "C0iTqFnyZTYo",
        "outputId": "120fba4f-8b39-4c0c-f077-ca83559691f6"
      },
      "execution_count": 21,
      "outputs": [
        {
          "output_type": "stream",
          "name": "stdout",
          "text": [
            "(100, 200, 300)\n"
          ]
        }
      ]
    },
    {
      "cell_type": "code",
      "source": [
        "# 12. Write a code to access the second-to-last element of the tuple ('red', 'green', 'blue', 'yellow')\n",
        "a = ('red', 'green', 'blue', 'yellow')\n",
        "c= a[1:]\n",
        "print(c)"
      ],
      "metadata": {
        "colab": {
          "base_uri": "https://localhost:8080/"
        },
        "id": "GWgKisJdZ7Ie",
        "outputId": "206aa0af-76cb-457f-d64a-b9b513a24086"
      },
      "execution_count": 24,
      "outputs": [
        {
          "output_type": "stream",
          "name": "stdout",
          "text": [
            "('green', 'blue', 'yellow')\n"
          ]
        }
      ]
    },
    {
      "cell_type": "code",
      "source": [
        "# 13 Write a code to find the minimum number in the tuple (10, 20, 5, 15).\n",
        "a = (10, 20, 5, 15)\n",
        "min(a)"
      ],
      "metadata": {
        "colab": {
          "base_uri": "https://localhost:8080/"
        },
        "id": "J8qXPLknaYEa",
        "outputId": "662cb2e1-14ed-4ba5-87ac-1879e538e7f1"
      },
      "execution_count": 25,
      "outputs": [
        {
          "output_type": "execute_result",
          "data": {
            "text/plain": [
              "5"
            ]
          },
          "metadata": {},
          "execution_count": 25
        }
      ]
    },
    {
      "cell_type": "code",
      "source": [
        "# 14  Write a code to find the index of the element \"cat\" in the tuple ('dog', 'cat', 'rabbit')\n",
        "a = ('dog', 'cat', 'rabbit')\n",
        "a.index(\"cat\")"
      ],
      "metadata": {
        "colab": {
          "base_uri": "https://localhost:8080/"
        },
        "id": "ZGJGi_CpbAAU",
        "outputId": "f434cf07-a027-4505-e33c-980abb921530"
      },
      "execution_count": 28,
      "outputs": [
        {
          "output_type": "execute_result",
          "data": {
            "text/plain": [
              "1"
            ]
          },
          "metadata": {},
          "execution_count": 28
        }
      ]
    },
    {
      "cell_type": "code",
      "source": [
        "# 15 Write a code to create a tuple containing three different fruits and check if \"kiwi\" is in it\n",
        "a = (\"apple\", \"orange\",\"kiwi\")\n",
        "\"kiwi\" in a"
      ],
      "metadata": {
        "colab": {
          "base_uri": "https://localhost:8080/"
        },
        "id": "Qc_xmEmYp-Wj",
        "outputId": "9d836270-fa61-41fb-a6c2-32ff0f545817"
      },
      "execution_count": 29,
      "outputs": [
        {
          "output_type": "execute_result",
          "data": {
            "text/plain": [
              "True"
            ]
          },
          "metadata": {},
          "execution_count": 29
        }
      ]
    },
    {
      "cell_type": "code",
      "source": [
        "# 16  6. Write a code to create a set with the elements 'a', 'b', 'c' and print it\n",
        "a = {'a','b',\"c\"}\n",
        "print(a)\n",
        "print(type(a))"
      ],
      "metadata": {
        "colab": {
          "base_uri": "https://localhost:8080/"
        },
        "id": "dXA2C-Imqo4-",
        "outputId": "f1514584-af07-402e-8773-ee941daf174e"
      },
      "execution_count": 31,
      "outputs": [
        {
          "output_type": "stream",
          "name": "stdout",
          "text": [
            "{'c', 'b', 'a'}\n",
            "<class 'set'>\n"
          ]
        }
      ]
    },
    {
      "cell_type": "code",
      "source": [
        "# 17 Write a code to clear all elements from the set {1, 2, 3, 4, 5}.\n",
        "a = {1, 2, 3, 4, 5}\n",
        "a.clear()\n",
        "print(a)"
      ],
      "metadata": {
        "colab": {
          "base_uri": "https://localhost:8080/"
        },
        "id": "Ynxm7tzaq1F1",
        "outputId": "ae805341-70e8-4b37-e3e8-faf805f9a055"
      },
      "execution_count": 33,
      "outputs": [
        {
          "output_type": "stream",
          "name": "stdout",
          "text": [
            "set()\n"
          ]
        }
      ]
    },
    {
      "cell_type": "code",
      "source": [
        "# 18 Write a code to remove the element 4 from the set {1, 2, 3, 4}.\n",
        "a = {1,2,3,4}\n",
        "a.remove(4)\n",
        "print(a)"
      ],
      "metadata": {
        "colab": {
          "base_uri": "https://localhost:8080/"
        },
        "id": "M5gHoLblrO9j",
        "outputId": "ee9255b3-a45b-42d9-e765-4b9b58b9819a"
      },
      "execution_count": 34,
      "outputs": [
        {
          "output_type": "stream",
          "name": "stdout",
          "text": [
            "{1, 2, 3}\n"
          ]
        }
      ]
    },
    {
      "cell_type": "code",
      "source": [
        "# 19 . Write a code to find the union of two sets {1, 2, 3} and {3, 4, 5}.\n",
        "a= {1,2,3}\n",
        "b= {3,4,5}\n",
        "c= a.union(b)\n",
        "c"
      ],
      "metadata": {
        "colab": {
          "base_uri": "https://localhost:8080/"
        },
        "id": "P3FldLbTrrim",
        "outputId": "89420579-47c7-45b0-f491-0f4893c5a3d1"
      },
      "execution_count": 38,
      "outputs": [
        {
          "output_type": "execute_result",
          "data": {
            "text/plain": [
              "{1, 2, 3, 4, 5}"
            ]
          },
          "metadata": {},
          "execution_count": 38
        }
      ]
    },
    {
      "cell_type": "code",
      "source": [
        "# 20 Write a code to find the intersection of two sets {1, 2, 3} and {2, 3, 4}.\n",
        "a= {1,2,3}\n",
        "b={2,3,4}\n",
        "c= a.intersection(b)\n",
        "print(c)"
      ],
      "metadata": {
        "colab": {
          "base_uri": "https://localhost:8080/"
        },
        "id": "rmrEv9WesdiU",
        "outputId": "8f2f0d86-6926-484f-c5b6-d4fa2e5f2402"
      },
      "execution_count": 40,
      "outputs": [
        {
          "output_type": "stream",
          "name": "stdout",
          "text": [
            "{2, 3}\n"
          ]
        }
      ]
    },
    {
      "cell_type": "code",
      "source": [
        "# 21 Write a code to create a dictionary with the keys \"name\", \"age\", and \"city\", and print it\n",
        "a={\"name\": \"Jayash\",\n",
        "   \"age\":22,\n",
        "   \"city\":\"Nagpur\"}\n",
        "print(a)"
      ],
      "metadata": {
        "colab": {
          "base_uri": "https://localhost:8080/"
        },
        "id": "Ro5_Zk4Rs3pn",
        "outputId": "1aeff46f-f758-4b16-d613-877346bff6ec"
      },
      "execution_count": 41,
      "outputs": [
        {
          "output_type": "stream",
          "name": "stdout",
          "text": [
            "{'name': 'Jayash', 'age': 22, 'city': 'Nagpur'}\n"
          ]
        }
      ]
    },
    {
      "cell_type": "code",
      "source": [
        "# 22 Write a code to add a new key-value pair \"country\": \"USA\" to the dictionary {'name': 'John', 'age': 25}.\n",
        "a={\"country\":\"USA\"}\n",
        "b={\"name\":\"John\",\"age\":25}\n",
        "a.update(b)\n",
        "print(a)"
      ],
      "metadata": {
        "colab": {
          "base_uri": "https://localhost:8080/"
        },
        "id": "43PsFygntzpG",
        "outputId": "b012a566-52b6-462c-b459-046fa4c8b222"
      },
      "execution_count": 43,
      "outputs": [
        {
          "output_type": "stream",
          "name": "stdout",
          "text": [
            "{'country': 'USA', 'name': 'John', 'age': 25}\n"
          ]
        }
      ]
    },
    {
      "cell_type": "code",
      "source": [
        "# 23  Write a code to access the value associated with the key \"name\" in the dictionary {'name': 'A\n",
        "a={'name': 'Alice', 'age': 30}\n",
        "print(a['name'])"
      ],
      "metadata": {
        "colab": {
          "base_uri": "https://localhost:8080/"
        },
        "id": "rt3QM2IQu8Cv",
        "outputId": "16d477f7-159f-4ade-8ee5-f16e1818bc74"
      },
      "execution_count": 46,
      "outputs": [
        {
          "output_type": "stream",
          "name": "stdout",
          "text": [
            "Alice\n"
          ]
        }
      ]
    },
    {
      "cell_type": "code",
      "source": [
        "# 24 Write a code to remove the key \"age\" from the dictionary {'name': 'Bob', 'age': 22, 'city': 'New York'}.\n",
        "a={'name': 'Bob', 'age': 22, 'city': 'New York'}\n",
        "a.pop(\"age\")\n",
        "print(a)"
      ],
      "metadata": {
        "colab": {
          "base_uri": "https://localhost:8080/"
        },
        "id": "bTbVIF52v3r9",
        "outputId": "63896e76-af4a-43ef-adaf-5522ac2f2862"
      },
      "execution_count": 49,
      "outputs": [
        {
          "output_type": "stream",
          "name": "stdout",
          "text": [
            "{'name': 'Bob', 'city': 'New York'}\n"
          ]
        }
      ]
    },
    {
      "cell_type": "code",
      "source": [
        " # 25 Write a code to check if the key \"city\" exists in the dictionary {'name': 'Alice', 'city': 'Paris'}\n",
        "a= {'name': 'Alice', 'city': 'Paris' }\n",
        "\"city\" in a"
      ],
      "metadata": {
        "colab": {
          "base_uri": "https://localhost:8080/"
        },
        "id": "rkd9b3kPwd0m",
        "outputId": "b0fbc1e8-d45b-457a-c905-e4f10b780bb2"
      },
      "execution_count": 50,
      "outputs": [
        {
          "output_type": "execute_result",
          "data": {
            "text/plain": [
              "True"
            ]
          },
          "metadata": {},
          "execution_count": 50
        }
      ]
    },
    {
      "cell_type": "code",
      "source": [
        "#26. Write a code to create a list, a tuple, and a dictionary, and print them all.\n",
        "list=[1,2,3]\n",
        "t= (1,2,3)\n",
        "d={\"Name\":\"Jayash\",\"age\":22}\n",
        "print(f\"list = {list}, tuple= {t}, Dictionary={d}\")"
      ],
      "metadata": {
        "colab": {
          "base_uri": "https://localhost:8080/"
        },
        "id": "hHib6EvexA3n",
        "outputId": "db885cf0-729d-4d26-8ccd-27bca375e61b"
      },
      "execution_count": 57,
      "outputs": [
        {
          "output_type": "stream",
          "name": "stdout",
          "text": [
            "list = [1, 2, 3], tuple= (1, 2, 3), Dictionary={'Name': 'Jayash', 'age': 22}\n"
          ]
        }
      ]
    },
    {
      "cell_type": "code",
      "source": [
        "#  27 Write a code to create a list of 5 random numbers between 1 and 100, sort it in ascending order, and print the\n",
        "#  result.(replaced)\n",
        "import random\n",
        "random_numbers = [random.randint(1, 100) for i in range(5)]\n",
        "\n",
        "random_numbers.sort()\n",
        "\n",
        "print(random_numbers)"
      ],
      "metadata": {
        "colab": {
          "base_uri": "https://localhost:8080/"
        },
        "id": "YqHGZN55yS8B",
        "outputId": "72979c66-dc8b-40b4-e3f1-c00f2ecdc3c2"
      },
      "execution_count": 75,
      "outputs": [
        {
          "output_type": "stream",
          "name": "stdout",
          "text": [
            "[22, 41, 53, 72, 96]\n"
          ]
        }
      ]
    },
    {
      "cell_type": "code",
      "source": [
        "# 28  Write a code to create a list with strings and print the element at the third index.\n",
        "list = [\"apple\", \"banana\", \"orange\", \"kiwi\", \"mango\"]\n",
        "print(list[3])"
      ],
      "metadata": {
        "colab": {
          "base_uri": "https://localhost:8080/"
        },
        "id": "B7s11-Dh1EbF",
        "outputId": "ece94e81-0f0b-4ad4-cf04-13f6fc26c616"
      },
      "execution_count": 76,
      "outputs": [
        {
          "output_type": "stream",
          "name": "stdout",
          "text": [
            "kiwi\n"
          ]
        }
      ]
    },
    {
      "cell_type": "code",
      "source": [
        "# 29. Write a code to combine two dictionaries into one and print the result\n",
        "a={\"Name\":\"Jayash\",\"Age\":22}\n",
        "b={\"City\":\"Nagpur\",\"Country\":\"India\"}\n",
        "a.update(b)\n",
        "print(a)"
      ],
      "metadata": {
        "colab": {
          "base_uri": "https://localhost:8080/"
        },
        "id": "0jc0v2Dx1Z-w",
        "outputId": "946bfb5b-fcc7-4db7-ff3b-0749fd8b6bc8"
      },
      "execution_count": 77,
      "outputs": [
        {
          "output_type": "stream",
          "name": "stdout",
          "text": [
            "{'Name': 'Jayash', 'Age': 22, 'City': 'Nagpur', 'Country': 'India'}\n"
          ]
        }
      ]
    },
    {
      "cell_type": "code",
      "source": [
        "# 30 Write a code to convert a list of strings into a set\n",
        "list = [\"apple\", \"banana\", \"orange\", \"kiwi\", \"mango\"]\n",
        "set(list)"
      ],
      "metadata": {
        "colab": {
          "base_uri": "https://localhost:8080/"
        },
        "id": "N7-J_o5M1wHO",
        "outputId": "5df33206-ed97-4f0e-9c43-5de45b7556b5"
      },
      "execution_count": 78,
      "outputs": [
        {
          "output_type": "execute_result",
          "data": {
            "text/plain": [
              "{'apple', 'banana', 'kiwi', 'mango', 'orange'}"
            ]
          },
          "metadata": {},
          "execution_count": 78
        }
      ]
    }
  ]
}